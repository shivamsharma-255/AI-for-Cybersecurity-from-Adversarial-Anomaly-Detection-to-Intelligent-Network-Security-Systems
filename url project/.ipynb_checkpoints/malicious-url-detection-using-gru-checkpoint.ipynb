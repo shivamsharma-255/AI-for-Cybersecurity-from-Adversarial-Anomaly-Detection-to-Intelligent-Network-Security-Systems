{
 "cells": [
  {
   "cell_type": "code",
   "execution_count": 1,
   "id": "6ee0368c",
   "metadata": {
    "execution": {
     "iopub.execute_input": "2022-11-06T09:38:40.024159Z",
     "iopub.status.busy": "2022-11-06T09:38:40.023633Z",
     "iopub.status.idle": "2022-11-06T09:38:41.771028Z",
     "shell.execute_reply": "2022-11-06T09:38:41.770087Z"
    },
    "papermill": {
     "duration": 1.755621,
     "end_time": "2022-11-06T09:38:41.773495",
     "exception": false,
     "start_time": "2022-11-06T09:38:40.017874",
     "status": "completed"
    },
    "tags": []
   },
   "outputs": [
    {
     "ename": "ModuleNotFoundError",
     "evalue": "No module named 'torch'",
     "output_type": "error",
     "traceback": [
      "\u001b[1;31m---------------------------------------------------------------------------\u001b[0m",
      "\u001b[1;31mModuleNotFoundError\u001b[0m                       Traceback (most recent call last)",
      "\u001b[1;32m~\\AppData\\Local\\Temp\\ipykernel_8804\\1329775556.py\u001b[0m in \u001b[0;36m<module>\u001b[1;34m\u001b[0m\n\u001b[1;32m----> 1\u001b[1;33m \u001b[1;32mimport\u001b[0m \u001b[0mtorch\u001b[0m\u001b[1;33m\u001b[0m\u001b[1;33m\u001b[0m\u001b[0m\n\u001b[0m\u001b[0;32m      2\u001b[0m \u001b[1;32mfrom\u001b[0m \u001b[0mtorch\u001b[0m \u001b[1;32mimport\u001b[0m \u001b[0mnn\u001b[0m \u001b[1;32mas\u001b[0m \u001b[0mnn\u001b[0m\u001b[1;33m\u001b[0m\u001b[1;33m\u001b[0m\u001b[0m\n\u001b[0;32m      3\u001b[0m \u001b[1;32mfrom\u001b[0m \u001b[0mtorch\u001b[0m\u001b[1;33m.\u001b[0m\u001b[0mnn\u001b[0m \u001b[1;32mimport\u001b[0m \u001b[0mfunctional\u001b[0m \u001b[1;32mas\u001b[0m \u001b[0mF\u001b[0m\u001b[1;33m\u001b[0m\u001b[1;33m\u001b[0m\u001b[0m\n\u001b[0;32m      4\u001b[0m \u001b[1;32mimport\u001b[0m \u001b[0mpandas\u001b[0m \u001b[1;32mas\u001b[0m \u001b[0mpd\u001b[0m\u001b[1;33m\u001b[0m\u001b[1;33m\u001b[0m\u001b[0m\n\u001b[0;32m      5\u001b[0m \u001b[1;32mfrom\u001b[0m \u001b[0mtqdm\u001b[0m \u001b[1;32mimport\u001b[0m \u001b[0mtqdm\u001b[0m\u001b[1;33m\u001b[0m\u001b[1;33m\u001b[0m\u001b[0m\n",
      "\u001b[1;31mModuleNotFoundError\u001b[0m: No module named 'torch'"
     ]
    }
   ],
   "source": [
    "import torch\n",
    "from torch import nn as nn\n",
    "from torch.nn import functional as F\n",
    "import pandas as pd\n",
    "from tqdm import tqdm"
   ]
  },
  {
   "cell_type": "code",
   "execution_count": 2,
   "id": "f8199661",
   "metadata": {
    "execution": {
     "iopub.execute_input": "2022-11-06T09:38:41.796183Z",
     "iopub.status.busy": "2022-11-06T09:38:41.795183Z",
     "iopub.status.idle": "2022-11-06T09:38:43.217347Z",
     "shell.execute_reply": "2022-11-06T09:38:43.216357Z"
    },
    "papermill": {
     "duration": 1.435926,
     "end_time": "2022-11-06T09:38:43.219389",
     "exception": false,
     "start_time": "2022-11-06T09:38:41.783463",
     "status": "completed"
    },
    "tags": []
   },
   "outputs": [
    {
     "data": {
      "text/html": [
       "<div>\n",
       "<style scoped>\n",
       "    .dataframe tbody tr th:only-of-type {\n",
       "        vertical-align: middle;\n",
       "    }\n",
       "\n",
       "    .dataframe tbody tr th {\n",
       "        vertical-align: top;\n",
       "    }\n",
       "\n",
       "    .dataframe thead th {\n",
       "        text-align: right;\n",
       "    }\n",
       "</style>\n",
       "<table border=\"1\" class=\"dataframe\">\n",
       "  <thead>\n",
       "    <tr style=\"text-align: right;\">\n",
       "      <th></th>\n",
       "      <th>url</th>\n",
       "      <th>type</th>\n",
       "    </tr>\n",
       "  </thead>\n",
       "  <tbody>\n",
       "    <tr>\n",
       "      <th>0</th>\n",
       "      <td>br-icloud.com.br</td>\n",
       "      <td>phishing</td>\n",
       "    </tr>\n",
       "    <tr>\n",
       "      <th>1</th>\n",
       "      <td>mp3raid.com/music/krizz_kaliko.html</td>\n",
       "      <td>benign</td>\n",
       "    </tr>\n",
       "    <tr>\n",
       "      <th>2</th>\n",
       "      <td>bopsecrets.org/rexroth/cr/1.htm</td>\n",
       "      <td>benign</td>\n",
       "    </tr>\n",
       "    <tr>\n",
       "      <th>3</th>\n",
       "      <td>http://www.garage-pirenne.be/index.php?option=...</td>\n",
       "      <td>defacement</td>\n",
       "    </tr>\n",
       "    <tr>\n",
       "      <th>4</th>\n",
       "      <td>http://adventure-nicaragua.net/index.php?optio...</td>\n",
       "      <td>defacement</td>\n",
       "    </tr>\n",
       "    <tr>\n",
       "      <th>...</th>\n",
       "      <td>...</td>\n",
       "      <td>...</td>\n",
       "    </tr>\n",
       "    <tr>\n",
       "      <th>651186</th>\n",
       "      <td>xbox360.ign.com/objects/850/850402.html</td>\n",
       "      <td>phishing</td>\n",
       "    </tr>\n",
       "    <tr>\n",
       "      <th>651187</th>\n",
       "      <td>games.teamxbox.com/xbox-360/1860/Dead-Space/</td>\n",
       "      <td>phishing</td>\n",
       "    </tr>\n",
       "    <tr>\n",
       "      <th>651188</th>\n",
       "      <td>www.gamespot.com/xbox360/action/deadspace/</td>\n",
       "      <td>phishing</td>\n",
       "    </tr>\n",
       "    <tr>\n",
       "      <th>651189</th>\n",
       "      <td>en.wikipedia.org/wiki/Dead_Space_(video_game)</td>\n",
       "      <td>phishing</td>\n",
       "    </tr>\n",
       "    <tr>\n",
       "      <th>651190</th>\n",
       "      <td>www.angelfire.com/goth/devilmaycrytonite/</td>\n",
       "      <td>phishing</td>\n",
       "    </tr>\n",
       "  </tbody>\n",
       "</table>\n",
       "<p>651191 rows × 2 columns</p>\n",
       "</div>"
      ],
      "text/plain": [
       "                                                      url        type\n",
       "0                                        br-icloud.com.br    phishing\n",
       "1                     mp3raid.com/music/krizz_kaliko.html      benign\n",
       "2                         bopsecrets.org/rexroth/cr/1.htm      benign\n",
       "3       http://www.garage-pirenne.be/index.php?option=...  defacement\n",
       "4       http://adventure-nicaragua.net/index.php?optio...  defacement\n",
       "...                                                   ...         ...\n",
       "651186            xbox360.ign.com/objects/850/850402.html    phishing\n",
       "651187       games.teamxbox.com/xbox-360/1860/Dead-Space/    phishing\n",
       "651188         www.gamespot.com/xbox360/action/deadspace/    phishing\n",
       "651189      en.wikipedia.org/wiki/Dead_Space_(video_game)    phishing\n",
       "651190          www.angelfire.com/goth/devilmaycrytonite/    phishing\n",
       "\n",
       "[651191 rows x 2 columns]"
      ]
     },
     "execution_count": 2,
     "metadata": {},
     "output_type": "execute_result"
    }
   ],
   "source": [
    "dataset = pd.read_csv('../input/malicious-urls-dataset/malicious_phish.csv')\n",
    "dataset"
   ]
  },
  {
   "cell_type": "code",
   "execution_count": 3,
   "id": "2a162181",
   "metadata": {
    "execution": {
     "iopub.execute_input": "2022-11-06T09:38:43.228300Z",
     "iopub.status.busy": "2022-11-06T09:38:43.226853Z",
     "iopub.status.idle": "2022-11-06T09:38:43.283294Z",
     "shell.execute_reply": "2022-11-06T09:38:43.282455Z"
    },
    "papermill": {
     "duration": 0.062411,
     "end_time": "2022-11-06T09:38:43.285246",
     "exception": false,
     "start_time": "2022-11-06T09:38:43.222835",
     "status": "completed"
    },
    "tags": []
   },
   "outputs": [
    {
     "data": {
      "text/plain": [
       "0"
      ]
     },
     "execution_count": 3,
     "metadata": {},
     "output_type": "execute_result"
    }
   ],
   "source": [
    "class Label_Index:\n",
    "    def __init__(self, dataset):\n",
    "        self.labels = dataset['type'].unique()\n",
    "        self.label_index = {label: index for index, label in enumerate(self.labels)}\n",
    "        self.index_label = {index: label for index, label in enumerate(self.labels)}\n",
    "    \n",
    "    def indexes_labels(self, dataset):\n",
    "        return dataset['type'].map(self.index_label)\n",
    "\n",
    "    def labels_indexes(self, dataset):\n",
    "        return dataset['type'].map(self.label_index)\n",
    "    def __call__(self, label):\n",
    "        return self.label_index[label]\n",
    "\n",
    "label_index = Label_Index(dataset)\n",
    "label_index('phishing')"
   ]
  },
  {
   "cell_type": "code",
   "execution_count": 4,
   "id": "f88d5db2",
   "metadata": {
    "execution": {
     "iopub.execute_input": "2022-11-06T09:38:43.292869Z",
     "iopub.status.busy": "2022-11-06T09:38:43.292096Z",
     "iopub.status.idle": "2022-11-06T09:38:46.238364Z",
     "shell.execute_reply": "2022-11-06T09:38:46.237461Z"
    },
    "papermill": {
     "duration": 2.952354,
     "end_time": "2022-11-06T09:38:46.240595",
     "exception": false,
     "start_time": "2022-11-06T09:38:43.288241",
     "status": "completed"
    },
    "tags": []
   },
   "outputs": [
    {
     "data": {
      "text/plain": [
       "([0, 1, 2, 3, 4, 5, 6, 7, 8, 9, 4, 6, 10, 9, 0, 1], 333)"
      ]
     },
     "execution_count": 4,
     "metadata": {},
     "output_type": "execute_result"
    }
   ],
   "source": [
    "class Char_Index:\n",
    "    def __init__(self, urls) -> None:\n",
    "        self.char_index = {}\n",
    "        self.index_char = {}\n",
    "        for url in urls:\n",
    "            for char in url:\n",
    "                if char not in self.char_index:\n",
    "                    self.char_index[char] = len(self.char_index)\n",
    "                    self.index_char[len(self.index_char)] = char\n",
    "    \n",
    "    def string_indexes(self, string):\n",
    "        return [self.char_index[char] for char in string]\n",
    "\n",
    "char_index = Char_Index(dataset['url'])\n",
    "char_index.string_indexes(dataset.url[0]), len(char_index.char_index)"
   ]
  },
  {
   "cell_type": "code",
   "execution_count": 5,
   "id": "7bb41032",
   "metadata": {
    "execution": {
     "iopub.execute_input": "2022-11-06T09:38:46.248622Z",
     "iopub.status.busy": "2022-11-06T09:38:46.247812Z",
     "iopub.status.idle": "2022-11-06T09:38:46.392110Z",
     "shell.execute_reply": "2022-11-06T09:38:46.391114Z"
    },
    "papermill": {
     "duration": 0.151071,
     "end_time": "2022-11-06T09:38:46.394877",
     "exception": false,
     "start_time": "2022-11-06T09:38:46.243806",
     "status": "completed"
    },
    "tags": []
   },
   "outputs": [],
   "source": [
    "# shuffle data\n",
    "dataset = dataset.sample(frac=1).reset_index(drop=True)\n",
    "\n",
    "# split data into train and test\n",
    "train_data = dataset[:int(len(dataset)*0.8)]\n",
    "test_data = dataset[int(len(dataset)*0.8):].reset_index(drop=True)"
   ]
  },
  {
   "cell_type": "code",
   "execution_count": 6,
   "id": "ec1acea3",
   "metadata": {
    "execution": {
     "iopub.execute_input": "2022-11-06T09:38:46.403847Z",
     "iopub.status.busy": "2022-11-06T09:38:46.402343Z",
     "iopub.status.idle": "2022-11-06T09:38:46.412767Z",
     "shell.execute_reply": "2022-11-06T09:38:46.411809Z"
    },
    "papermill": {
     "duration": 0.016529,
     "end_time": "2022-11-06T09:38:46.414870",
     "exception": false,
     "start_time": "2022-11-06T09:38:46.398341",
     "status": "completed"
    },
    "tags": []
   },
   "outputs": [
    {
     "data": {
      "text/plain": [
       "(520952, 130239)"
      ]
     },
     "execution_count": 6,
     "metadata": {},
     "output_type": "execute_result"
    }
   ],
   "source": [
    "class Dataset(torch.utils.data.Dataset):\n",
    "    def __init__(self, df, char_index: Char_Index, label_index: Label_Index) -> None:\n",
    "        self.df = df\n",
    "        self.char_index = char_index\n",
    "        self.label_index = label_index\n",
    "\n",
    "    def __len__(self):\n",
    "        return len(self.df)\n",
    "\n",
    "    def __getitem__(self, index):\n",
    "        url = self.df.url[index]\n",
    "        label = self.label_index(self.df.type[index])\n",
    "        return torch.tensor(self.char_index.string_indexes(url)), torch.tensor(label)\n",
    "\n",
    "trainDataset = Dataset(train_data, char_index, label_index)\n",
    "testDataset = Dataset(test_data, char_index, label_index)\n",
    "len(trainDataset), len(testDataset)"
   ]
  },
  {
   "cell_type": "code",
   "execution_count": 7,
   "id": "e6be89d4",
   "metadata": {
    "execution": {
     "iopub.execute_input": "2022-11-06T09:38:46.422081Z",
     "iopub.status.busy": "2022-11-06T09:38:46.421815Z",
     "iopub.status.idle": "2022-11-06T09:38:46.598401Z",
     "shell.execute_reply": "2022-11-06T09:38:46.597087Z"
    },
    "papermill": {
     "duration": 0.183569,
     "end_time": "2022-11-06T09:38:46.601474",
     "exception": false,
     "start_time": "2022-11-06T09:38:46.417905",
     "status": "completed"
    },
    "tags": []
   },
   "outputs": [
    {
     "name": "stdout",
     "output_type": "stream",
     "text": [
      "tensor([[10,  3, 15,  ...,  0,  0,  0],\n",
      "        [66,  6, 27,  ...,  0,  0,  0],\n",
      "        [19, 20, 20,  ...,  0,  0,  0],\n",
      "        ...,\n",
      "        [ 0, 13, 15,  ...,  0,  0,  0],\n",
      "        [19, 20, 20,  ...,  0,  0,  0],\n",
      "        [21, 11,  5,  ...,  0,  0,  0]]) tensor([1, 1, 3, 1, 1, 1, 1, 1, 2, 1, 1, 1, 1, 1, 1, 0, 1, 1, 1, 1, 1, 1, 0, 0,\n",
      "        1, 1, 2, 1, 2, 1, 3, 1, 2, 1, 1, 2, 0, 1, 2, 1, 1, 1, 1, 1, 1, 1, 1, 2,\n",
      "        1, 0, 0, 1, 1, 1, 1, 2, 1, 1, 1, 1, 1, 1, 0, 2, 1, 2, 1, 1, 1, 3, 3, 1,\n",
      "        1, 2, 3, 2, 1, 1, 3, 1, 1, 0, 1, 0, 0, 3, 1, 1, 0, 3, 3, 1, 0, 1, 2, 2,\n",
      "        1, 1, 1, 1, 1, 1, 1, 1, 3, 2, 1, 1, 1, 1, 1, 0, 2, 0, 1, 0, 1, 2, 1, 1,\n",
      "        3, 1, 0, 0, 0, 1, 0, 1, 1, 1, 3, 0, 2, 1, 1, 1, 1, 1, 2, 2, 1, 1, 1, 1,\n",
      "        1, 1, 2, 1, 1, 1, 0, 2, 1, 1, 1, 1, 1, 1, 1, 1, 3, 2, 1, 1, 1, 1, 1, 1,\n",
      "        1, 1, 1, 1, 1, 2, 0, 2, 1, 1, 1, 1, 1, 1, 1, 1, 1, 0, 3, 0, 1, 1, 1, 1,\n",
      "        1, 2, 1, 1, 0, 2, 2, 1, 1, 0, 1, 1, 1, 1, 1, 0, 1, 1, 0, 1, 1, 1, 0, 0,\n",
      "        3, 1, 1, 0, 1, 1, 3, 2, 1, 1, 1, 1, 1, 2, 1, 0, 1, 1, 2, 1, 0, 1, 2, 0,\n",
      "        3, 1, 2, 1, 1, 2, 1, 1, 1, 0, 3, 1, 1, 1, 0, 1])\n"
     ]
    }
   ],
   "source": [
    "def collate_fn(batch):\n",
    "    urls, labels = zip(*batch)\n",
    "    urls = nn.utils.rnn.pad_sequence(urls, batch_first=True)\n",
    "    return urls, torch.tensor(labels)\n",
    "\n",
    "trainGenerator = torch.utils.data.DataLoader(trainDataset, batch_size=256, shuffle=True, collate_fn=collate_fn, num_workers = 2)\n",
    "testGenerator = torch.utils.data.DataLoader(testDataset, batch_size=256, shuffle=True, collate_fn=collate_fn, num_workers = 2)\n",
    "for inputs, labels in trainGenerator:\n",
    "    print(inputs, labels)\n",
    "    break"
   ]
  },
  {
   "cell_type": "code",
   "execution_count": 8,
   "id": "a1737b1a",
   "metadata": {
    "execution": {
     "iopub.execute_input": "2022-11-06T09:38:46.610388Z",
     "iopub.status.busy": "2022-11-06T09:38:46.609403Z",
     "iopub.status.idle": "2022-11-06T09:38:47.595729Z",
     "shell.execute_reply": "2022-11-06T09:38:47.594737Z"
    },
    "papermill": {
     "duration": 0.993051,
     "end_time": "2022-11-06T09:38:47.598049",
     "exception": false,
     "start_time": "2022-11-06T09:38:46.604998",
     "status": "completed"
    },
    "tags": []
   },
   "outputs": [
    {
     "name": "stderr",
     "output_type": "stream",
     "text": [
      "/opt/conda/lib/python3.7/site-packages/torch/nn/modules/rnn.py:65: UserWarning: dropout option adds dropout after all but last recurrent layer, so non-zero dropout expects num_layers greater than 1, but got dropout=0.2 and num_layers=1\n",
      "  \"num_layers={}\".format(dropout, num_layers))\n"
     ]
    },
    {
     "data": {
      "text/plain": [
       "tensor([[-0.3831, -0.1689,  0.4769, -0.2091],\n",
       "        [-0.1313, -0.1002,  0.1074,  0.1056],\n",
       "        [-0.3950, -0.0723,  0.1279, -0.2591],\n",
       "        ...,\n",
       "        [ 0.0352, -0.1412,  0.1883,  0.0185],\n",
       "        [-0.4122, -0.0864,  0.1314, -0.2365],\n",
       "        [-0.0342, -0.2445,  0.3391, -0.3909]], grad_fn=<AddmmBackward0>)"
      ]
     },
     "execution_count": 8,
     "metadata": {},
     "output_type": "execute_result"
    }
   ],
   "source": [
    "class GRU(nn.Module):\n",
    "    def __init__(self, vocab_size, embedding_size, hidden_size, output_size, num_layers=1, dropout=0.2, bidirectional=False):\n",
    "        super(GRU, self).__init__()\n",
    "        self.bidirectional = bidirectional\n",
    "        self.embedding = nn.Embedding(vocab_size, embedding_size)\n",
    "        self.hidden_size = hidden_size\n",
    "        self.num_layers = num_layers\n",
    "        self.gru = nn.GRU(embedding_size, hidden_size, num_layers, dropout=dropout, batch_first=True, bidirectional=bidirectional)\n",
    "        self.fc = nn.Linear(hidden_size, output_size)\n",
    "    \n",
    "    def forward(self, x):\n",
    "        x = self.embedding(x)   # [batch_size, seq_len] -> [batch_size, seq_len, embedding_size]\n",
    "        if self.bidirectional == True:\n",
    "            h0 = torch.zeros(self.num_layers*2, x.size(0), self.hidden_size).to(x.device)   # [num_layers*2, batch_size, hidden_size]\n",
    "        else:\n",
    "            h0 = torch.zeros(self.num_layers, x.size(0), self.hidden_size).to(x.device)  # [num_layers, batch_size, hidden_size]\n",
    "        out, _ = self.gru(x, h0)    # [batch_size, seq_len, hidden_size]\n",
    "        if self.bidirectional == True:\n",
    "            out = out[:, -1, :self.hidden_size] + out[:, 0, self.hidden_size:]  # [batch_size, hidden_size]\n",
    "        return self.fc(out)\n",
    "gru_model = GRU(len(char_index.char_index), 128, 128, len(label_index.labels), bidirectional=True, num_layers=1)\n",
    "gru_model(inputs)"
   ]
  },
  {
   "cell_type": "code",
   "execution_count": 9,
   "id": "8538f3f6",
   "metadata": {
    "execution": {
     "iopub.execute_input": "2022-11-06T09:38:47.607078Z",
     "iopub.status.busy": "2022-11-06T09:38:47.606782Z",
     "iopub.status.idle": "2022-11-06T09:38:47.612991Z",
     "shell.execute_reply": "2022-11-06T09:38:47.612088Z"
    },
    "papermill": {
     "duration": 0.012535,
     "end_time": "2022-11-06T09:38:47.614940",
     "exception": false,
     "start_time": "2022-11-06T09:38:47.602405",
     "status": "completed"
    },
    "tags": []
   },
   "outputs": [],
   "source": [
    "optimizer = torch.optim.Adam(gru_model.parameters(), lr=0.001)\n",
    "loss = torch.nn.CrossEntropyLoss()\n",
    "epochs = 10"
   ]
  },
  {
   "cell_type": "code",
   "execution_count": 10,
   "id": "b16ce772",
   "metadata": {
    "execution": {
     "iopub.execute_input": "2022-11-06T09:38:47.622946Z",
     "iopub.status.busy": "2022-11-06T09:38:47.622650Z",
     "iopub.status.idle": "2022-11-06T09:59:51.516038Z",
     "shell.execute_reply": "2022-11-06T09:59:51.513135Z"
    },
    "papermill": {
     "duration": 1264.328396,
     "end_time": "2022-11-06T09:59:51.946737",
     "exception": false,
     "start_time": "2022-11-06T09:38:47.618341",
     "status": "completed"
    },
    "tags": []
   },
   "outputs": [
    {
     "name": "stderr",
     "output_type": "stream",
     "text": [
      "100%|██████████| 2035/2035 [01:54<00:00, 17.76it/s]"
     ]
    },
    {
     "name": "stdout",
     "output_type": "stream",
     "text": [
      "epoch: 1, train loss: 0.1527193381842363\n"
     ]
    },
    {
     "name": "stderr",
     "output_type": "stream",
     "text": [
      "\n"
     ]
    },
    {
     "name": "stdout",
     "output_type": "stream",
     "text": [
      "\t test loss: 0.0774997614455832, test acc: 0.9761438585984229\n",
      "save model\n"
     ]
    },
    {
     "name": "stderr",
     "output_type": "stream",
     "text": [
      "100%|██████████| 2035/2035 [01:55<00:00, 17.69it/s]"
     ]
    },
    {
     "name": "stdout",
     "output_type": "stream",
     "text": [
      "epoch: 2, train loss: 0.0686697180160946\n"
     ]
    },
    {
     "name": "stderr",
     "output_type": "stream",
     "text": [
      "\n"
     ]
    },
    {
     "name": "stdout",
     "output_type": "stream",
     "text": [
      "\t test loss: 0.06362216989372534, test acc: 0.9800136671811055\n",
      "save model\n"
     ]
    },
    {
     "name": "stderr",
     "output_type": "stream",
     "text": [
      "100%|██████████| 2035/2035 [01:55<00:00, 17.67it/s]"
     ]
    },
    {
     "name": "stdout",
     "output_type": "stream",
     "text": [
      "epoch: 3, train loss: 0.05514378636704726\n"
     ]
    },
    {
     "name": "stderr",
     "output_type": "stream",
     "text": [
      "\n"
     ]
    },
    {
     "name": "stdout",
     "output_type": "stream",
     "text": [
      "\t test loss: 0.06158766196583249, test acc: 0.9810041539016731\n",
      "save model\n"
     ]
    },
    {
     "name": "stderr",
     "output_type": "stream",
     "text": [
      "100%|██████████| 2035/2035 [01:55<00:00, 17.58it/s]"
     ]
    },
    {
     "name": "stdout",
     "output_type": "stream",
     "text": [
      "epoch: 4, train loss: 0.047627027858167664\n"
     ]
    },
    {
     "name": "stderr",
     "output_type": "stream",
     "text": [
      "\n"
     ]
    },
    {
     "name": "stdout",
     "output_type": "stream",
     "text": [
      "\t test loss: 0.05674155102859751, test acc: 0.9825628268030313\n",
      "save model\n"
     ]
    },
    {
     "name": "stderr",
     "output_type": "stream",
     "text": [
      "100%|██████████| 2035/2035 [01:55<00:00, 17.64it/s]"
     ]
    },
    {
     "name": "stdout",
     "output_type": "stream",
     "text": [
      "epoch: 5, train loss: 0.042055054207353025\n"
     ]
    },
    {
     "name": "stderr",
     "output_type": "stream",
     "text": [
      "\n"
     ]
    },
    {
     "name": "stdout",
     "output_type": "stream",
     "text": [
      "\t test loss: 0.052493810768958274, test acc: 0.9836991991646128\n",
      "save model\n"
     ]
    },
    {
     "name": "stderr",
     "output_type": "stream",
     "text": [
      "100%|██████████| 2035/2035 [01:55<00:00, 17.62it/s]"
     ]
    },
    {
     "name": "stdout",
     "output_type": "stream",
     "text": [
      "epoch: 6, train loss: 0.03725566297279859\n"
     ]
    },
    {
     "name": "stderr",
     "output_type": "stream",
     "text": [
      "\n"
     ]
    },
    {
     "name": "stdout",
     "output_type": "stream",
     "text": [
      "\t test loss: 0.054602031458776686, test acc: 0.9837145555478773\n",
      "save model\n"
     ]
    },
    {
     "name": "stderr",
     "output_type": "stream",
     "text": [
      "100%|██████████| 2035/2035 [01:53<00:00, 17.91it/s]"
     ]
    },
    {
     "name": "stdout",
     "output_type": "stream",
     "text": [
      "epoch: 7, train loss: 0.033577309129187605\n"
     ]
    },
    {
     "name": "stderr",
     "output_type": "stream",
     "text": [
      "\n"
     ]
    },
    {
     "name": "stdout",
     "output_type": "stream",
     "text": [
      "\t test loss: 0.05418063026774228, test acc: 0.9836838427813481\n"
     ]
    },
    {
     "name": "stderr",
     "output_type": "stream",
     "text": [
      "100%|██████████| 2035/2035 [01:54<00:00, 17.77it/s]"
     ]
    },
    {
     "name": "stdout",
     "output_type": "stream",
     "text": [
      "epoch: 8, train loss: 0.031094121744545036\n"
     ]
    },
    {
     "name": "stderr",
     "output_type": "stream",
     "text": [
      "\n"
     ]
    },
    {
     "name": "stdout",
     "output_type": "stream",
     "text": [
      "\t test loss: 0.05618955925096024, test acc: 0.9834227842658497\n"
     ]
    },
    {
     "name": "stderr",
     "output_type": "stream",
     "text": [
      "100%|██████████| 2035/2035 [01:55<00:00, 17.55it/s]"
     ]
    },
    {
     "name": "stdout",
     "output_type": "stream",
     "text": [
      "epoch: 9, train loss: 0.028119271571567187\n"
     ]
    },
    {
     "name": "stderr",
     "output_type": "stream",
     "text": [
      "\n"
     ]
    },
    {
     "name": "stdout",
     "output_type": "stream",
     "text": [
      "\t test loss: 0.05557892543368027, test acc: 0.9838988321470528\n",
      "save model\n"
     ]
    },
    {
     "name": "stderr",
     "output_type": "stream",
     "text": [
      "100%|██████████| 2035/2035 [01:54<00:00, 17.79it/s]"
     ]
    },
    {
     "name": "stdout",
     "output_type": "stream",
     "text": [
      "epoch: 10, train loss: 0.02606865959756845\n"
     ]
    },
    {
     "name": "stderr",
     "output_type": "stream",
     "text": [
      "\n"
     ]
    },
    {
     "name": "stdout",
     "output_type": "stream",
     "text": [
      "\t test loss: 0.06095394093089523, test acc: 0.9830311964926021\n"
     ]
    }
   ],
   "source": [
    "best_right = 0\n",
    "early_stop = 0\n",
    "gru_model.to('cuda')\n",
    "for epoch in range(epochs):\n",
    "    loss_value = 0.0\n",
    "    gru_model.train()\n",
    "    for inputs, label in tqdm(trainGenerator):\n",
    "        inputs = inputs.cuda()\n",
    "        label = label.cuda()\n",
    "        optimizer.zero_grad()\n",
    "        output = gru_model(inputs)\n",
    "        l = loss(output, label)\n",
    "        l.backward()\n",
    "        loss_value += l.item()\n",
    "        optimizer.step()\n",
    "    print(f'epoch: {epoch+1}, train loss: {loss_value/len(trainGenerator)}')\n",
    "\n",
    "    # eval\n",
    "    gru_model.cuda()\n",
    "    gru_model.eval()\n",
    "    loss_value = 0.0\n",
    "    right_num = 0\n",
    "    for inputs, label in testGenerator:\n",
    "        inputs = inputs.cuda()\n",
    "        label = label.cuda()\n",
    "        output = gru_model(inputs)\n",
    "        l = loss(output, label)\n",
    "        loss_value += l.item()\n",
    "        right_num += (torch.argmax(output, dim=1) == label).sum().item()\n",
    "    print(f'\\t test loss: {loss_value/len(testGenerator)}, test acc: {right_num/len(testDataset)}')\n",
    "    \n",
    "    # save model or early stop\n",
    "    if right_num > best_right:\n",
    "        best_right = right_num\n",
    "        torch.save(gru_model.state_dict(), './gru_model.pth')\n",
    "        print('save model')\n",
    "        early_stop = 0\n",
    "    else:\n",
    "        early_stop += 1\n",
    "        if early_stop > 3:\n",
    "            print('early stop')\n",
    "            break"
   ]
  }
 ],
 "metadata": {
  "kernelspec": {
   "display_name": "Python 3 (ipykernel)",
   "language": "python",
   "name": "python3"
  },
  "language_info": {
   "codemirror_mode": {
    "name": "ipython",
    "version": 3
   },
   "file_extension": ".py",
   "mimetype": "text/x-python",
   "name": "python",
   "nbconvert_exporter": "python",
   "pygments_lexer": "ipython3",
   "version": "3.9.13"
  },
  "papermill": {
   "default_parameters": {},
   "duration": 1281.53112,
   "end_time": "2022-11-06T09:59:53.916365",
   "environment_variables": {},
   "exception": null,
   "input_path": "__notebook__.ipynb",
   "output_path": "__notebook__.ipynb",
   "parameters": {},
   "start_time": "2022-11-06T09:38:32.385245",
   "version": "2.3.4"
  }
 },
 "nbformat": 4,
 "nbformat_minor": 5
}
